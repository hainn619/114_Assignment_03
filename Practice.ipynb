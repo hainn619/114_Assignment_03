{
 "cells": [
  {
   "cell_type": "code",
   "execution_count": 21,
   "id": "41812f33",
   "metadata": {},
   "outputs": [],
   "source": [
    "class Queue:\n",
    "    def __init__(self):\n",
    "        self.stack1 = []\n",
    "        self.stack2 = []\n",
    "    def enqueue(self, element):\n",
    "        s1 = self.stack1\n",
    "        s2 = self.stack2\n",
    "        while len(s1) != 0:\n",
    "            top = s1[-1]\n",
    "#             print(top)\n",
    "            s2.append(top)\n",
    "#             print(s2)\n",
    "            s1.pop()\n",
    "        s1.append(element)        \n",
    "        while len(s2) != 0:\n",
    "            s1.append(s2[-1])\n",
    "            s2.pop()"
   ]
  },
  {
   "cell_type": "code",
   "execution_count": 30,
   "id": "4e519b6b",
   "metadata": {},
   "outputs": [
    {
     "name": "stdout",
     "output_type": "stream",
     "text": [
      "5\n",
      "[1, 2, 3, 4]\n",
      "[5]\n"
     ]
    }
   ],
   "source": [
    "s1 = [1,2,3,4,5]\n",
    "s2 = []\n",
    "print(stack[-1])\n",
    "s2.append(s1.pop())\n",
    "print(s1)\n",
    "print(s2)"
   ]
  },
  {
   "cell_type": "code",
   "execution_count": null,
   "id": "112077b4",
   "metadata": {},
   "outputs": [],
   "source": []
  }
 ],
 "metadata": {
  "kernelspec": {
   "display_name": "Python 3 (ipykernel)",
   "language": "python",
   "name": "python3"
  },
  "language_info": {
   "codemirror_mode": {
    "name": "ipython",
    "version": 3
   },
   "file_extension": ".py",
   "mimetype": "text/x-python",
   "name": "python",
   "nbconvert_exporter": "python",
   "pygments_lexer": "ipython3",
   "version": "3.8.10"
  }
 },
 "nbformat": 4,
 "nbformat_minor": 5
}
