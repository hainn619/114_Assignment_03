{
 "cells": [
  {
   "cell_type": "markdown",
   "id": "02e0c839",
   "metadata": {},
   "source": [
    "# Balanced parentheses check\n",
    "\n",
    "### Given a string of opening and closing parentheses, check whether it is balanced.\n",
    "### there are 3 types of parentheses here: round(), square brackets[], and curly bracket (braes) {}\n",
    "\n",
    "_Assumptions_\n",
    "1. Assume the string does not contain any other character other than the ones mentioned above (no spaces. words, or numbers).\n",
    "2. Balanced parentheses rquire every opening parenthese to be closed in the reverse order opened\n",
    "\n",
    "Examples:\n",
    "balanced_check(\"([{}])\") should return True\n",
    "balanced_check(\"{{{}])\") should return False\n",
    "\n",
    "Similary:\n",
    "\" ()()(){{{}}}\" is balanced string\n",
    "\"()(){](())))\" is not balanced string\n",
    "\n",
    "#### Instruction:\n",
    "Creat a function called \" balanced_check\" that take a string as its parameter and return True,if balanced and false if it not.\n"
   ]
  },
  {
   "cell_type": "code",
   "execution_count": 3,
   "id": "1365d55c",
   "metadata": {},
   "outputs": [],
   "source": [
    "def balanced_check(s):\n",
    "    num = len(s)\n",
    "    if (num % 2) != 0:\n",
    "        return False\n",
    "    opening = [\"(\", \"{\", \"[\"]\n",
    "    matches = [\n",
    "        (\"(\",\")\"),\n",
    "        (\"[\",\"]\"),\n",
    "        (\"{\",\"}\")\n",
    "    ]\n",
    "    stack =[]\n",
    "    for paren in s:\n",
    "        if paren in opening:\n",
    "            stack.append(paren)\n",
    "        else:\n",
    "            if stack ==[]:\n",
    "                return False\n",
    "            last_open = stack.pop()\n",
    "            if( last_open, paren) not in matches:\n",
    "                return False\n",
    "    return stack == []\n"
   ]
  },
  {
   "cell_type": "code",
   "execution_count": 5,
   "id": "33e60100",
   "metadata": {},
   "outputs": [
    {
     "data": {
      "text/plain": [
       "True"
      ]
     },
     "execution_count": 5,
     "metadata": {},
     "output_type": "execute_result"
    }
   ],
   "source": [
    "balanced_check(\"({{}})\")"
   ]
  },
  {
   "cell_type": "code",
   "execution_count": 6,
   "id": "c93ca7a4",
   "metadata": {},
   "outputs": [],
   "source": [
    "class Node:\n",
    "    def __init__(self, data):\n",
    "        self.next = None\n",
    "        self.data = data\n",
    "\n"
   ]
  },
  {
   "cell_type": "code",
   "execution_count": 7,
   "id": "92421810",
   "metadata": {},
   "outputs": [],
   "source": [
    "class SinglyLinkedList:\n",
    "    def __init__(self):\n",
    "        self.head = None\n",
    "    \n",
    "    def append(self, element):\n",
    "        if not self.head:\n",
    "            self.head = Node(element)\n",
    "        else:\n",
    "            current = self.head\n",
    "            while current.next:  # \"current.next != None\"\n",
    "                current = current.next\n",
    "            current.next = Node(element)\n",
    "            \n",
    "    def insert(self, index, element):  \n",
    "        current = Node()\n",
    "        follow_node = Node()\n",
    "        current.next = None        \n",
    "        new_node = Node(element)\n",
    "#         if index == 0:\n",
    "#             current = Node(element)\n",
    "        \n",
    "        while i < index:\n",
    "            current.next = self.head\n",
    "            i += 1            \n",
    "        current.next = new_node\n",
    "#         while i < (index + 1):\n",
    "#             current\n",
    "            \n",
    "#         new_node.next =???\n",
    "        \n",
    "        "
   ]
  },
  {
   "cell_type": "markdown",
   "id": "e910af7d",
   "metadata": {},
   "source": [
    "# Home work: implement a queue using 2 stacks"
   ]
  },
  {
   "cell_type": "code",
   "execution_count": 48,
   "id": "a581d18a",
   "metadata": {},
   "outputs": [],
   "source": [
    "class Queue2Stacks:\n",
    "    def __init__(self):\n",
    "        # Two stacks\n",
    "        self.stack1 = []\n",
    "        self.stack2 = []\n",
    "        \n",
    "    def enqueue(self, element):\n",
    "        s1 = self.stack1\n",
    "        s2 = self.stack2\n",
    "        while len(s1) != 0:           \n",
    "#             print(s1)\n",
    "            s2.append(s1.pop())\n",
    "#             print(s2)\n",
    "            \n",
    "        s1.append(element)        \n",
    "        while len(s2) != 0:\n",
    "            s1.append(s2[-1])\n",
    "            s2.pop()\n",
    "            \n",
    "    def dequeue(self):\n",
    "        if len(self.stack1) != 0:\n",
    "            s1 = self.stack1\n",
    "            x = s1.pop()\n",
    "            return x\n",
    "            \n",
    "        "
   ]
  },
  {
   "cell_type": "code",
   "execution_count": 49,
   "id": "580c00df",
   "metadata": {},
   "outputs": [],
   "source": [
    "f = Queue2Stacks()\n",
    "f.enqueue(1)\n",
    "f.enqueue(3)\n",
    "f.enqueue(4)\n",
    "f.enqueue(5)\n"
   ]
  },
  {
   "cell_type": "code",
   "execution_count": 50,
   "id": "d6790430",
   "metadata": {},
   "outputs": [
    {
     "name": "stdout",
     "output_type": "stream",
     "text": [
      "[5, 4, 3, 1]\n"
     ]
    }
   ],
   "source": [
    "print(f.stack1)"
   ]
  },
  {
   "cell_type": "code",
   "execution_count": 20,
   "id": "9ff853bb",
   "metadata": {},
   "outputs": [
    {
     "name": "stdout",
     "output_type": "stream",
     "text": [
      "[]\n"
     ]
    }
   ],
   "source": [
    "print(f.stack2)"
   ]
  },
  {
   "cell_type": "code",
   "execution_count": 51,
   "id": "f777496e",
   "metadata": {},
   "outputs": [
    {
     "name": "stdout",
     "output_type": "stream",
     "text": [
      "[7, 5, 4, 3, 1]\n"
     ]
    }
   ],
   "source": [
    "f.enqueue(7)\n",
    "print(f.stack1)"
   ]
  },
  {
   "cell_type": "code",
   "execution_count": 31,
   "id": "c82c3cdf",
   "metadata": {},
   "outputs": [
    {
     "name": "stdout",
     "output_type": "stream",
     "text": [
      "[1, 2, 3, 4, 5, 6]\n"
     ]
    }
   ],
   "source": [
    "st = [1,2,3,4,5]\n",
    "st.append(6)\n",
    "print(st)"
   ]
  },
  {
   "cell_type": "code",
   "execution_count": 46,
   "id": "28c72e6a",
   "metadata": {},
   "outputs": [
    {
     "name": "stdout",
     "output_type": "stream",
     "text": [
      "[5, 4, 3, 1]\n"
     ]
    }
   ],
   "source": [
    "print(f.stack1)"
   ]
  },
  {
   "cell_type": "code",
   "execution_count": 47,
   "id": "c7b0df26",
   "metadata": {},
   "outputs": [
    {
     "name": "stdout",
     "output_type": "stream",
     "text": [
      "1\n"
     ]
    }
   ],
   "source": [
    "print(f.dequeue())"
   ]
  },
  {
   "cell_type": "code",
   "execution_count": null,
   "id": "47a225ef",
   "metadata": {},
   "outputs": [],
   "source": []
  }
 ],
 "metadata": {
  "kernelspec": {
   "display_name": "Python 3 (ipykernel)",
   "language": "python",
   "name": "python3"
  },
  "language_info": {
   "codemirror_mode": {
    "name": "ipython",
    "version": 3
   },
   "file_extension": ".py",
   "mimetype": "text/x-python",
   "name": "python",
   "nbconvert_exporter": "python",
   "pygments_lexer": "ipython3",
   "version": "3.8.10"
  }
 },
 "nbformat": 4,
 "nbformat_minor": 5
}
